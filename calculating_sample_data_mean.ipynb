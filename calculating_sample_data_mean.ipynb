{
 "cells": [
  {
   "cell_type": "markdown",
   "id": "1cc738f2-0cdc-47fe-8936-1bf40b1ed329",
   "metadata": {},
   "source": [
    "Question: How to calculate the mean of sample data?\n",
    "\n",
    "Method - 1\n",
    "sum all the sample data directly and then divide by the data size\n",
    "avg(Xn) = sum of X / n\n",
    "**space complexity**: O(n)\n",
    "\n",
    "Method - 2\n",
    "avg(Xn) = ( avg(Xn-1) * (n-1) + Xn) / n\n",
    "avg(Xn) = avg(Xn-1) * (1 - 1/n) + Xn / n\n",
    "avg(Xn) = avg(Xn-1) + 1/n * (Xn - avg(Xn-1))\n",
    "**space complexity**: O(1)\n",
    "\n",
    "Conclusion:\n",
    "if we use method-2 to calculate the mean of sample data, it can help us save more space as it isn't need to storage the every detailed sample data."
   ]
  },
  {
   "cell_type": "code",
   "execution_count": 1,
   "id": "e2e6b1cc-1bd8-4ca3-8c16-e483faf0d54f",
   "metadata": {},
   "outputs": [],
   "source": [
    "# Pre Condition: generate random sample data\n",
    "import random\n",
    "\n",
    "data_size = 100\n",
    "random_integers = [random.randint(1, 1000) for i in range(data_size)]"
   ]
  },
  {
   "cell_type": "markdown",
   "id": "1a2683aa-541d-474b-9608-89c8d8022931",
   "metadata": {},
   "source": [
    "Method - 1"
   ]
  },
  {
   "cell_type": "code",
   "execution_count": 2,
   "id": "849b8fcd-b792-457c-b850-ff4cb5e8836a",
   "metadata": {},
   "outputs": [],
   "source": [
    "def method_1():\n",
    "    sample_data = random_integers\n",
    "    average = sum(sample_data) / len(sample_data)\n",
    "    print('method_1_sample_data_average:', int(average))"
   ]
  },
  {
   "cell_type": "markdown",
   "id": "e792492b-cffd-466e-abed-12f9df3254b4",
   "metadata": {},
   "source": [
    "Method - 2"
   ]
  },
  {
   "cell_type": "code",
   "execution_count": 3,
   "id": "092eac33-d49a-4b77-9b8f-51fd06e896cb",
   "metadata": {},
   "outputs": [],
   "source": [
    "def method_2():\n",
    "    sample_data_average = random_integers[0]\n",
    "    sample_data_size = 1\n",
    "    \n",
    "    for i in range(data_size):\n",
    "        # skip the first one\n",
    "        if i == 0:\n",
    "            continue\n",
    "        sample_data_size += 1\n",
    "        sample_data_average = sample_data_average + (random_integers[i] - sample_data_average) / sample_data_size\n",
    "    \n",
    "    print('method_2_sample_data_average:', int(sample_data_average))"
   ]
  },
  {
   "cell_type": "code",
   "execution_count": 4,
   "id": "0cc3a8f6-1bb1-4e6a-b5a0-464ded795d95",
   "metadata": {},
   "outputs": [
    {
     "name": "stdout",
     "output_type": "stream",
     "text": [
      "method_1_sample_data_average: 490\n",
      "method_2_sample_data_average: 490\n"
     ]
    }
   ],
   "source": [
    "# compare the result\n",
    "method_1()\n",
    "method_2()"
   ]
  }
 ],
 "metadata": {
  "kernelspec": {
   "display_name": "Python 3 (ipykernel)",
   "language": "python",
   "name": "python3"
  },
  "language_info": {
   "codemirror_mode": {
    "name": "ipython",
    "version": 3
   },
   "file_extension": ".py",
   "mimetype": "text/x-python",
   "name": "python",
   "nbconvert_exporter": "python",
   "pygments_lexer": "ipython3",
   "version": "3.12.7"
  }
 },
 "nbformat": 4,
 "nbformat_minor": 5
}
