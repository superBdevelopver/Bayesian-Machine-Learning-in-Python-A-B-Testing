{
 "cells": [
  {
   "cell_type": "markdown",
   "id": "dff3af0a-703a-4f71-aefd-a886065b6959",
   "metadata": {},
   "source": [
    "for this part, will implement the epsilon greedy algorithm comparing to the greedy algorithm"
   ]
  },
  {
   "cell_type": "code",
   "execution_count": 1,
   "id": "98149c75-2d48-4fc0-a667-1247caf4be88",
   "metadata": {},
   "outputs": [],
   "source": [
    "# global condition\n",
    "\n",
    "import numpy as np\n",
    "import matplotlib.pyplot as plt\n",
    "import random\n",
    "\n",
    "NUM_TRIALS = 10000\n",
    "EPS = 0.1\n",
    "BANDIT_PROBABILITIES = [0.2, 0.5, 0.75]\n"
   ]
  },
  {
   "cell_type": "code",
   "execution_count": 2,
   "id": "bca27b34-5301-41e0-8b92-90aac9966757",
   "metadata": {},
   "outputs": [],
   "source": [
    "# define the bandit arm\n",
    "class BanditArm:\n",
    "    def __init__(self, p):\n",
    "        # p: the win rate\n",
    "        self.p = p\n",
    "         # p_estimate: the estimated win rate\n",
    "        self.p_estimate = 0\n",
    "         # N: the number of pulling times\n",
    "        self.N = 0\n",
    "\n",
    "    def pull(self):\n",
    "        # draw a 1 with probability p\n",
    "        return np.random.random() < self.p\n",
    "\n",
    "    def update(self, x):\n",
    "        # x: the new result of pulling the bandit arm\n",
    "        self.N += 1\n",
    "        self.p_estimate = self.p_estimate + 1 / self.N * (int(x) - self.p_estimate)  "
   ]
  },
  {
   "cell_type": "code",
   "execution_count": 3,
   "id": "77e1c0c0-62df-47af-b170-eb8700ead5a7",
   "metadata": {},
   "outputs": [
    {
     "name": "stdout",
     "output_type": "stream",
     "text": [
      "optimal j: 2\n",
      "mean estimate: 0.22285714285714275\n",
      "mean estimate: 0.5070821529745049\n",
      "mean estimate: 0.7541142303968986\n",
      "total reward earned: 7268.0\n",
      "overall win rate: 0.7268\n",
      "num_times_explored: 1062\n",
      "num_times_exploited: 8938\n",
      "num times selected optimal bandit: 9297\n"
     ]
    },
    {
     "data": {
      "image/png": "[encoded data removed]",
      "text/plain": [
       "<Figure size 640x480 with 1 Axes>"
      ]
     },
     "metadata": {},
     "output_type": "display_data"
    }
   ],
   "source": [
    "def experiment():\n",
    "    bandits = [BanditArm(p) for p in BANDIT_PROBABILITIES]\n",
    "\n",
    "    rewards = np.zeros(NUM_TRIALS)\n",
    "    num_times_explored = 0\n",
    "    num_times_exploited = 0\n",
    "    num_optimal = 0\n",
    "    optimal_j = np.argmax([b.p for b in bandits])\n",
    "    print('optimal j:', optimal_j)\n",
    "\n",
    "    for i in range(NUM_TRIALS):\n",
    "        \n",
    "        # use epsilon greedy algorithm to choose the next bandit arm\n",
    "        if np.random.random() < EPS:\n",
    "            num_times_explored += 1\n",
    "            # select the bandit arm randomly\n",
    "            j = random.randint(0, len(bandits) - 1)\n",
    "        else:\n",
    "            num_times_exploited += 1\n",
    "            # select the bandit arm with highest p_estimate\n",
    "            j = np.argmax([b.p_estimate for b in bandits])\n",
    "\n",
    "        if j == optimal_j:\n",
    "            num_optimal += 1\n",
    "\n",
    "        # pull the bandit arm\n",
    "        x = bandits[j].pull()\n",
    "        # log the reward\n",
    "        rewards[i] = x\n",
    "        # update the distribution for the bandit whose arm we just pulled\n",
    "        bandits[j].update(x)\n",
    "\n",
    "    # print the estimated mean\n",
    "    for b in bandits:\n",
    "        print('mean estimate:', b.p_estimate)\n",
    "\n",
    "    # print the total reward\n",
    "    print('total reward earned:', rewards.sum())\n",
    "    print('overall win rate:', rewards.sum() / NUM_TRIALS)\n",
    "    print('num_times_explored:', num_times_explored)\n",
    "    print('num_times_exploited:', num_times_exploited)\n",
    "    print('num times selected optimal bandit:', num_optimal)\n",
    "\n",
    "    # plot the results\n",
    "    cumulative_rewards = np.cumsum(rewards)\n",
    "    win_rates = cumulative_rewards / (np.arange(NUM_TRIALS) + 1)\n",
    "    plt.plot(win_rates)\n",
    "    plt.plot(np.ones(NUM_TRIALS)*np.max(BANDIT_PROBABILITIES))\n",
    "    plt.show()\n",
    "\n",
    "if __name__ == '__main__':\n",
    "  experiment()\n",
    "        "
   ]
  }
 ],
 "metadata": {
  "kernelspec": {
   "display_name": "Python 3 (ipykernel)",
   "language": "python",
   "name": "python3"
  },
  "language_info": {
   "codemirror_mode": {
    "name": "ipython",
    "version": 3
   },
   "file_extension": ".py",
   "mimetype": "text/x-python",
   "name": "python",
   "nbconvert_exporter": "python",
   "pygments_lexer": "ipython3",
   "version": "3.12.7"
  }
 },
 "nbformat": 4,
 "nbformat_minor": 5
}
