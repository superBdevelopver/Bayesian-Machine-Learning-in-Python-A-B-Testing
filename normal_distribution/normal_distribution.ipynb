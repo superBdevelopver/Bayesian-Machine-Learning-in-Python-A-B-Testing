{
 "cells": [
  {
   "cell_type": "code",
   "execution_count": 5,
   "id": "1c463e4a-b8d7-4be3-8a39-16670efbbc05",
   "metadata": {},
   "outputs": [],
   "source": [
    "import numpy as np\n",
    "from scipy.stats import norm"
   ]
  },
  {
   "cell_type": "code",
   "execution_count": 6,
   "id": "765fb4cf-0a1a-411e-95af-014bea0cebe6",
   "metadata": {},
   "outputs": [
    {
     "name": "stdout",
     "output_type": "stream",
     "text": [
      "standard_error: 80\n",
      "z_score: 1.959963984540054\n",
      "margin_of_error: 156.7971187632043\n",
      "confident_interval: (-106.79711876320431, 206.7971187632043)\n"
     ]
    }
   ],
   "source": [
    "mean = 50\n",
    "std = 80\n",
    "size = 10000000\n",
    "confident_level = 0.95\n",
    "random_numbers = np.random.normal(loc = mean, scale = std, size = size)\n",
    "\n",
    "# 计算Z分数\n",
    "# z_score = 1.96, 表示在1.96位点的左侧面积约占97.5\n",
    "z_score = norm.ppf(1 - (1 - confident_level) / 2)\n",
    "# 计算实际误差\n",
    "margin_of_error = z_score * std\n",
    "# 计算置信区间\n",
    "confident_interval = (mean - margin_of_error, mean + margin_of_error)\n",
    "\n",
    "print(f'standard_error: {standard_error}')\n",
    "print(f'z_score: {z_score}')\n",
    "print(f'margin_of_error: {margin_of_error}')\n",
    "print(f'confident_interval: {confident_interval}')"
   ]
  },
  {
   "cell_type": "code",
   "execution_count": null,
   "id": "53a8f344-d0b4-4c5b-94ce-993094c0022d",
   "metadata": {},
   "outputs": [],
   "source": []
  }
 ],
 "metadata": {
  "kernelspec": {
   "display_name": "Python 3 (ipykernel)",
   "language": "python",
   "name": "python3"
  },
  "language_info": {
   "codemirror_mode": {
    "name": "ipython",
    "version": 3
   },
   "file_extension": ".py",
   "mimetype": "text/x-python",
   "name": "python",
   "nbconvert_exporter": "python",
   "pygments_lexer": "ipython3",
   "version": "3.12.7"
  }
 },
 "nbformat": 4,
 "nbformat_minor": 5
}
